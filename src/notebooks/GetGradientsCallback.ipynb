{
 "cells": [
  {
   "cell_type": "code",
   "execution_count": 1,
   "metadata": {},
   "outputs": [
    {
     "name": "stderr",
     "output_type": "stream",
     "text": [
      "/home/joshi/xavier/env/local/lib/python2.7/site-packages/h5py/__init__.py:36: FutureWarning: Conversion of the second argument of issubdtype from `float` to `np.floating` is deprecated. In future, it will be treated as `np.float64 == np.dtype(float).type`.\n",
      "  from ._conv import register_converters as _register_converters\n",
      "Using TensorFlow backend.\n"
     ]
    }
   ],
   "source": [
    "from keras.callbacks import Callback\n",
    "from keras.objectives import categorical_crossentropy\n",
    "from keras import backend as K"
   ]
  },
  {
   "cell_type": "code",
   "execution_count": 3,
   "metadata": {},
   "outputs": [],
   "source": [
    "class GradientActivationStore(Callback):\n",
    "    \n",
    "    def __init__(self, filename):\n",
    "        super(GradientActivationStore, self).__init__()\n",
    "        self.gradients = []\n",
    "        self.activations = []\n",
    "        self.filename = filename\n",
    "        self.y_true = K.placeholder(shape=[None, 9])\n",
    "        \n",
    "    def get_gradients(self, model):\n",
    "        model_weights = model.trainable_weights\n",
    "        weights = [weight for weight in model_weights if 'kernel' in weight.name]\n",
    "        loss = K.mean(categorical_crossentropy(self.y_true, model.output))\n",
    "        func = K.function([model.input, self.y_true], K.gradients(loss, weights))\n",
    "        return func\n",
    "    \n",
    "    def get_activations(self, model):\n",
    "        func = K.function([model.input], [layer.output for layer in model.layers[1:]]) # evaluation function\n",
    "        return func\n",
    "    \n",
    "    def on_train_begin(self, logs=None):\n",
    "        #Gradients\n",
    "        get_grad = self.get_gradients(self.model)\n",
    "        inputs = [self.validation_data[0], self.validation_data[1]]\n",
    "        grads = get_grad(inputs)\n",
    "        self.gradients.append(grads)\n",
    "        \n",
    "        #Activations\n",
    "        get_act = self.get_activations(self.model)\n",
    "        acts = get_act([self.validation_data[0]])\n",
    "        self.activations.append(acts)\n",
    "        \n",
    "    def on_epoch_end(self, epoch, logs=None):\n",
    "        #Gradients\n",
    "        get_grad = self.get_gradients(self.model)\n",
    "        inputs = [self.validation_data[0], self.validation_data[1]]\n",
    "        grads = get_grad(inputs)\n",
    "        self.gradients.append(grads)\n",
    "        \n",
    "        #Activations\n",
    "        get_act = self.get_activations(self.model)\n",
    "        acts = get_act([self.validation_data[0]])\n",
    "        self.activations.append(acts)\n",
    "        \n",
    "    def on_train_end(self, logs=None):\n",
    "        import deepdish as dd\n",
    "        dd.io.save(self.filename+'-gradients.h5', self.gradients)\n",
    "        dd.io.save(self.filename+'-activations.h5', self.activations)\n",
    "        print ('COMPLETE')"
   ]
  },
  {
   "cell_type": "code",
   "execution_count": 3,
   "metadata": {},
   "outputs": [],
   "source": [
    "VGG16 = keras.applications.vgg16.VGG16(include_top=True, weights=None, input_tensor=None, input_shape=None, pooling=None, classes=1000)\n"
   ]
  },
  {
   "cell_type": "code",
   "execution_count": 9,
   "metadata": {},
   "outputs": [
    {
     "data": {
      "text/plain": [
       "u'block1_conv1/bias:0'"
      ]
     },
     "execution_count": 9,
     "metadata": {},
     "output_type": "execute_result"
    }
   ],
   "source": [
    "VGG16.layers[1].weights[1].name"
   ]
  },
  {
   "cell_type": "code",
   "execution_count": null,
   "metadata": {},
   "outputs": [],
   "source": [
    "class GradientActivationStore(Callback):\n",
    "    \n",
    "    def __init__(self, filename):\n",
    "        super(GradientActivationStore, self).__init__()\n",
    "        self.gradients = []\n",
    "        self.activations = []\n",
    "        self.filename = filename\n",
    "        self.y_true = K.placeholder(shape=[None, 9])\n",
    "        \n",
    "    def get_gradients(self, model):\n",
    "        \n",
    "        model_weights = model.trainable_weights\n",
    "        weights = [weight for weight in model_weights if 'kernel' in weight.name]\n",
    "        outputTensor = model.output\n",
    "        func = K.function([model.input, self.y_true], K.gradients(outputTensor, weights))\n",
    "        return func\n",
    "    \n",
    "    def get_activations(self, model):\n",
    "        func = K.function([model.input], [layer.output for layer in model.layers[1:]]) # evaluation function\n",
    "        return func\n",
    "    \n",
    "    def on_train_begin(self, logs=None):\n",
    "        #Gradients\n",
    "        get_grad = self.get_gradients(self.model)\n",
    "        inputs = [self.validation_data[0], self.validation_data[1]]\n",
    "        grads = get_grad(inputs)\n",
    "        self.gradients.append(grads)\n",
    "        \n",
    "        #Activations\n",
    "        get_act = self.get_activations(self.model)\n",
    "        acts = get_act([self.validation_data[0]])\n",
    "        self.activations.append(acts)\n",
    "        \n",
    "    def on_epoch_end(self, epoch, logs=None):\n",
    "        #Gradients\n",
    "        get_grad = self.get_gradients(self.model)\n",
    "        inputs = [self.validation_data[0], self.validation_data[1]]\n",
    "        grads = get_grad(inputs)\n",
    "        self.gradients.append(grads)\n",
    "        \n",
    "        #Activations\n",
    "        get_act = self.get_activations(self.model)\n",
    "        acts = get_act([self.validation_data[0]])\n",
    "        self.activations.append(acts)\n",
    "        \n",
    "    def on_train_end(self, logs=None):\n",
    "        import deepdish as dd\n",
    "        dd.io.save(self.filename+'-gradients.h5', self.gradients)\n",
    "        dd.io.save(self.filename+'-activations.h5', self.activations)\n",
    "        print ('COMPLETE')"
   ]
  }
 ],
 "metadata": {
  "kernelspec": {
   "display_name": "xavier",
   "language": "python",
   "name": "xavier"
  },
  "language_info": {
   "codemirror_mode": {
    "name": "ipython",
    "version": 2
   },
   "file_extension": ".py",
   "mimetype": "text/x-python",
   "name": "python",
   "nbconvert_exporter": "python",
   "pygments_lexer": "ipython2",
   "version": "2.7.12"
  }
 },
 "nbformat": 4,
 "nbformat_minor": 2
}
